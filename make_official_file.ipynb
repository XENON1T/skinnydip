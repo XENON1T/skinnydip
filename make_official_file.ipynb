{
 "cells": [
  {
   "cell_type": "code",
   "execution_count": 1,
   "metadata": {
    "collapsed": false,
    "deletable": true,
    "editable": true
   },
   "outputs": [
    {
     "name": "stderr",
     "output_type": "stream",
     "text": [
      "DEBUG:InterpolatingMap] Loading JSON map /home/amb243/s2_xy_XENON1T_24Feb2017.json\n",
      "DEBUG:InterpolatingMap] Map name: XENON1T S2(x, y) correction map\n",
      "DEBUG:InterpolatingMap] Map description:\n",
      "    XENON1T S2 xy correction map\n",
      "    Version 1.0\n",
      "    Created 24th February 2017 by Adam Brown\n",
      "    \n",
      "    Extracted from November 2016 Kr83m calibration (summed 41.6 keV peak)\n",
      "    Using 84 datasets totalling 2 days 22:05:00 between 2016-11-14 10:39:38 and 2016-11-18 06:38:52\n",
      "    Made using data processed with pax v6.4.2\n",
      "    \n",
      "    See note: xenon:xenon1t:adam:fv-study:s2-correction-xy-kr83m.html\n",
      "    \n",
      "DEBUG:InterpolatingMap] Map names found: ['map', 'map_bottom', 'map_top']\n"
     ]
    }
   ],
   "source": [
    "import datetime\n",
    "datetime.datetime.utcnow()\n",
    "import logging\n",
    "import numpy as np\n",
    "logging.getLogger('hax.minitrees').setLevel(logging.INFO)\n",
    "import hax\n",
    "import root_pandas\n",
    "import lax\n",
    "import pandas as pd\n",
    "from s2_top_bottom_new import S2TopBottom\n",
    "import os\n",
    "from hax import cuts"
   ]
  },
  {
   "cell_type": "code",
   "execution_count": 2,
   "metadata": {
    "collapsed": false,
    "deletable": true,
    "editable": true
   },
   "outputs": [
    {
     "name": "stdout",
     "output_type": "stream",
     "text": [
      "/project/lgrandi/tunnell/data/sciencerun0/pax_6.4.2/lax_0.11.1\n"
     ]
    }
   ],
   "source": [
    "#pax_version = '6.6.2'\n",
    "pax_version = '6.4.2'\n",
    "sciencerun = 0\n",
    "directory = '/project/lgrandi/tunnell/data/sciencerun%d/pax_%s/lax_%s' % (sciencerun,\n",
    "                                                                         pax_version,\n",
    "                                                                         lax.__version__)\n",
    "\n",
    "print(directory)\n",
    "if not os.path.exists(directory):\n",
    "    os.makedirs(directory)\n",
    "    \n",
    "excluded = [] #if pax_version == '6.4.2' else [\"161104_1351\", '161109_0502',\n",
    "              #                                '161117_1132', '161210_1003', \n",
    "              #                                '161214_1036', '170109_1323', \n",
    "              #                                '170110_0843', '170116_0537']"
   ]
  },
  {
   "cell_type": "code",
   "execution_count": 3,
   "metadata": {
    "collapsed": false,
    "deletable": true,
    "editable": true
   },
   "outputs": [],
   "source": [
    "hax.init(experiment='XENON1T')\n",
    "hax.runs.update_datasets({\"tags.name\" : '_sciencerun%d' % sciencerun,\n",
    "                          \"name\" : {\"$nin\" : excluded},\n",
    "                          \"data\": {\"$elemMatch\": {\"status\": 'transferred',\n",
    "                                                  'type': 'processed',\n",
    "                                                  'host' : 'midway-login1',\n",
    "                                                   'pax_version': 'v%s' % pax_version}}\n",
    "                         })\n",
    "\n",
    "datasets = hax.runs.datasets "
   ]
  },
  {
   "cell_type": "code",
   "execution_count": 4,
   "metadata": {
    "collapsed": false,
    "deletable": true,
    "editable": true,
    "scrolled": true
   },
   "outputs": [
    {
     "name": "stdout",
     "output_type": "stream",
     "text": [
      "Ready. Steady. Go!\n"
     ]
    }
   ],
   "source": [
    "from lax.lichens import sciencerun0\n",
    "print(\"Ready. Steady. Go!\")\n",
    "bad = []"
   ]
  },
  {
   "cell_type": "code",
   "execution_count": 5,
   "metadata": {
    "collapsed": false,
    "deletable": true,
    "editable": true
   },
   "outputs": [],
   "source": [
    "lookup_table = {row.number : row.source__type for i, row in datasets.T.iteritems()}\n",
    "lookup_table2 = {row.number : '_sciencerun0,' in row.tags for i, row in datasets.T.iteritems()}    \n",
    "lookup_table3 = {row.number : 'closed' in row.tags for i, row in datasets.T.iteritems()}    \n",
    "lookup_table4 = {row.number : row['name'] for i, row in datasets.T.iteritems()} "
   ]
  },
  {
   "cell_type": "code",
   "execution_count": 6,
   "metadata": {
    "collapsed": false,
    "deletable": true,
    "editable": true
   },
   "outputs": [],
   "source": [
    "from lax.lichens import sciencerun0\n",
    "cut = {'Rn220' : sciencerun0.LowEnergyRn220(),\n",
    "       'AmBe' : sciencerun0.LowEnergyAmBe(),\n",
    "       'none' : sciencerun0.LowEnergyBackground(),\n",
    "      'Kr83m' : sciencerun0.LowEnergyBackground()}\n",
    "       "
   ]
  },
  {
   "cell_type": "code",
   "execution_count": 7,
   "metadata": {
    "collapsed": false,
    "deletable": true,
    "editable": true
   },
   "outputs": [],
   "source": [
    "preselections = {#'1t_fiducial' : sciencerun0.LowEnergyBackground().lichen_list[0].string,\n",
    "                'cs1_lt_200' : 'cs1<%d' % sciencerun0.LowEnergyBackground().lichen_list[1].allowed_range[1],\n",
    "}\n",
    "\n",
    "#preselections['1t_fiducial_cs1_lt_200'] = '(%s) & (%s)' % (preselections['1t_fiducial'],\n",
    "#                                                           preselections['cs1_lt_200'])\n",
    "\n",
    "preselections['lowenergy'] = preselections['cs1_lt_200']\n",
    "preselections['lowenergy_roi'] = '(cs1 > 3) & (cs1 < 70)'"
   ]
  },
  {
   "cell_type": "code",
   "execution_count": 8,
   "metadata": {
    "collapsed": false,
    "deletable": true,
    "editable": true,
    "scrolled": false
   },
   "outputs": [
    {
     "name": "stdout",
     "output_type": "stream",
     "text": [
      "lowenergy cs1<200\n",
      "AmBe\n"
     ]
    },
    {
     "name": "stderr",
     "output_type": "stream",
     "text": [
      "/project/lgrandi/anaconda3/envs/pax_head/lib/python3.4/site-packages/pandas/computation/align.py:98: RuntimeWarning: divide by zero encountered in log10\n",
      "  ordm = np.log10(abs(reindexer_size - term_axis_size))\n"
     ]
    },
    {
     "name": "stdout",
     "output_type": "stream",
     "text": [
      "cs1<200 selection: 12776709 rows removed (1.34% passed)\n",
      "CutAmBeFiducial v1 selection: 127982 rows removed (26.13% passed)\n",
      "CutS1LowEnergyRange v0 selection: 0 rows removed (100.00% passed)\n",
      "CutS2Threshold v1 selection: 16018 rows removed (64.62% passed)\n",
      "CutInteractionPeaksBiggest v0 selection: 625 rows removed (97.86% passed)\n",
      "CutS2AreaFractionTop v2 selection: 871 rows removed (96.96% passed)\n",
      "CutS2SingleScatterSimple v0 selection: 20832 rows removed (24.96% passed)\n",
      "CutDAQVeto v1 selection: 640 rows removed (90.76% passed)\n",
      "CutS1SingleScatter v1 selection: 37 rows removed (99.41% passed)\n",
      "CutS1AreaFractionTop v1 selection: 56 rows removed (99.10% passed)\n",
      "CutS2PatternLikelihood v0 selection: 349 rows removed (94.37% passed)\n",
      "CutS2Tails v0 selection: 293 rows removed (94.99% passed)\n",
      "CutS1PatternLikelihood v0 selection: 303 rows removed (94.54% passed)\n",
      "CutS2Width v2 selection: 309 rows removed (94.12% passed)\n",
      "CutS1MaxPMT v0 selection: 49 rows removed (99.01% passed)\n",
      "CutSingleElectronS2s v3 selection: 80 rows removed (98.37% passed)\n"
     ]
    },
    {
     "name": "stderr",
     "output_type": "stream",
     "text": [
      "/project/lgrandi/anaconda3/envs/pax_head/lib/python3.4/site-packages/root_numpy/_tree.py:449: UserWarning: converter for dtype('O') is not implemented (skipping)\n",
      "  _librootnumpy.array2root(arr, filename, treename, mode)\n"
     ]
    },
    {
     "name": "stdout",
     "output_type": "stream",
     "text": [
      "cs1_lt_200 cs1<200\n",
      "AmBe\n",
      "cs1<200 selection: 12776709 rows removed (1.34% passed)\n",
      "lowenergy_roi (cs1 > 3) & (cs1 < 70)\n",
      "AmBe\n",
      "(cs1 > 3) & (cs1 < 70) selection: 12828299 rows removed (0.94% passed)\n",
      "CutAmBeFiducial v1 selection: 84690 rows removed (30.39% passed)\n",
      "CutS1LowEnergyRange v0 selection: 0 rows removed (100.00% passed)\n",
      "CutS2Threshold v1 selection: 15449 rows removed (58.22% passed)\n",
      "CutInteractionPeaksBiggest v0 selection: 579 rows removed (97.31% passed)\n",
      "CutS2AreaFractionTop v2 selection: 645 rows removed (96.92% passed)\n",
      "CutS2SingleScatterSimple v0 selection: 15586 rows removed (23.24% passed)\n",
      "CutDAQVeto v1 selection: 405 rows removed (91.42% passed)\n",
      "CutS1SingleScatter v1 selection: 25 rows removed (99.42% passed)\n",
      "CutS1AreaFractionTop v1 selection: 28 rows removed (99.35% passed)\n",
      "CutS2PatternLikelihood v0 selection: 251 rows removed (94.11% passed)\n",
      "CutS2Tails v0 selection: 190 rows removed (95.26% passed)\n",
      "CutS1PatternLikelihood v0 selection: 146 rows removed (96.18% passed)\n",
      "CutS2Width v2 selection: 199 rows removed (94.58% passed)\n",
      "CutS1MaxPMT v0 selection: 30 rows removed (99.14% passed)\n",
      "CutSingleElectronS2s v3 selection: 80 rows removed (97.68% passed)\n"
     ]
    }
   ],
   "source": [
    "minitrees = ['Fundamentals', 'Basics', 'TotalProperties',\n",
    "             'Proximity', 'Extended', 'TailCut']\n",
    "if pax_version == '6.4.2': \n",
    "    minitrees.append(S2TopBottom)\n",
    "\n",
    "for preselection_name, preselection in preselections.items():\n",
    "    print(preselection_name, preselection)\n",
    "    hax.init(experiment='XENON1T',\n",
    "             main_data_paths=['/project2/lgrandi/xenon1t/processed/pax_v%s' % pax_version,\n",
    "                              '/project/lgrandi/xenon1t/processed/pax_v%s' % pax_version],\n",
    "             minitree_paths=['/project/lgrandi/xenon1t/minitrees/pax_v%s' % pax_version,\n",
    "                             '/project2/lgrandi/xenon1t/minitrees/pax_v%s' % pax_version,\n",
    "                            '/project/lgrandi/brown/s2tb_minitrees',\n",
    "                            # '.'\n",
    "                            ],\n",
    "             #make_minitrees=True,#False if pax_version == '6.4.2' else True,\n",
    "             pax_version_policy=pax_version)\n",
    "\n",
    "    for source_type in datasets.source__type.unique(): \n",
    "        if source_type != 'AmBe':\n",
    "            continue\n",
    "        print(source_type)\n",
    "        df = hax.minitrees.load(datasets[datasets.source__type == source_type].name,\n",
    "                                treemakers=minitrees,\n",
    "                                num_workers=20,\n",
    "                                preselection=[preselection]\n",
    "                                )\n",
    "\n",
    "        df.loc[:, 'source'] = [lookup_table[x] for x in list(df.loc[:, 'run_number'])]\n",
    "        df.loc[:, 'name'] = [lookup_table4[x] for x in list(df.loc[:, 'run_number'])]\n",
    "        df.loc[:, 'pax_version'] = pax_version\n",
    "        df.loc[:, 'lax_version'] = lax.__version__\n",
    "\n",
    "        for source_cut in cut.values():\n",
    "            df = source_cut.process(df)\n",
    "        df = cut[source_type].process(df)\n",
    "\n",
    "        base = '%s/data_%s_%s' % (directory,\n",
    "                          source_type,\n",
    "                          preselection_name)\n",
    "        \n",
    "        if 'lowenergy' in preselection_name:\n",
    "            for each in cut[source_type].lichen_list:\n",
    "                cut_name = 'Cut' + each.__class__.__name__\n",
    "                df = cuts.selection(df, df[cut_name],\n",
    "                                    desc='%s v%d' % (cut_name, each.version))\n",
    "            \n",
    "            df.to_csv(base + '.csv')\n",
    "\n",
    "        store = pd.HDFStore(base + '.h5',\n",
    "                            complib='blosc',\n",
    "                            complevel=9)\n",
    "        store.put('data', df)\n",
    "\n",
    "        # Store the cuts history for the data\n",
    "        store.get_storer('data').attrs.cut_history = cuts._get_history(df)\n",
    "        store.close()\n",
    "\n",
    "        df.to_root(base + '.root', 'tree')"
   ]
  },
  {
   "cell_type": "code",
   "execution_count": 9,
   "metadata": {
    "collapsed": false,
    "deletable": true,
    "editable": true
   },
   "outputs": [
    {
     "name": "stdout",
     "output_type": "stream",
     "text": [
      "done\n"
     ]
    }
   ],
   "source": [
    "print('done')"
   ]
  },
  {
   "cell_type": "code",
   "execution_count": null,
   "metadata": {
    "collapsed": true,
    "deletable": true,
    "editable": true
   },
   "outputs": [],
   "source": []
  }
 ],
 "metadata": {
  "anaconda-cloud": {},
  "kernelspec": {
   "display_name": "Python 3",
   "language": "python",
   "name": "python3"
  },
  "language_info": {
   "codemirror_mode": {
    "name": "ipython",
    "version": 3
   },
   "file_extension": ".py",
   "mimetype": "text/x-python",
   "name": "python",
   "nbconvert_exporter": "python",
   "pygments_lexer": "ipython3",
   "version": "3.4.4"
  }
 },
 "nbformat": 4,
 "nbformat_minor": 0
}
